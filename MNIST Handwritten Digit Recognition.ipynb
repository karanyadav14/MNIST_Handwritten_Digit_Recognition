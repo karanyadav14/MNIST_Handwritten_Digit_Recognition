{
 "cells": [
  {
   "cell_type": "markdown",
   "metadata": {},
   "source": [
    "### MNIST Handwrittten digit recognition"
   ]
  },
  {
   "cell_type": "code",
   "execution_count": 44,
   "metadata": {},
   "outputs": [],
   "source": [
    "import numpy as np\n",
    "import matplotlib.pyplot as plt\n",
    "import torch\n",
    "from tqdm.notebook import tqdm"
   ]
  },
  {
   "cell_type": "code",
   "execution_count": 45,
   "metadata": {},
   "outputs": [],
   "source": [
    "from torchvision import datasets, transforms\n",
    "\n",
    "mnist_train=datasets.MNIST(root=\"./datasets\", train=True, transform=transforms.ToTensor(), download=True)\n",
    "mnist_test=datasets.MNIST(root=\"./datasets\", train=False, transform=transforms.ToTensor(), download=True)"
   ]
  },
  {
   "cell_type": "code",
   "execution_count": 46,
   "metadata": {},
   "outputs": [
    {
     "name": "stdout",
     "output_type": "stream",
     "text": [
      "The training MNIST examples: 60000\n",
      "The testing MNIST examples: 10000\n"
     ]
    }
   ],
   "source": [
    "print(\"The training MNIST examples: {}\".format(len(mnist_train)))\n",
    "print(\"The testing MNIST examples: {}\".format(len(mnist_test)))"
   ]
  },
  {
   "cell_type": "code",
   "execution_count": 47,
   "metadata": {},
   "outputs": [
    {
     "name": "stdout",
     "output_type": "stream",
     "text": [
      "The default size of image: torch.Size([1, 28, 28])\n",
      "The reshaped image size: torch.Size([28, 28])\n",
      "The label of this image: 1\n"
     ]
    },
    {
     "data": {
      "image/png": "[encoded data removed]",
      "text/plain": [
       "<Figure size 432x288 with 1 Axes>"
      ]
     },
     "metadata": {
      "needs_background": "light"
     },
     "output_type": "display_data"
    }
   ],
   "source": [
    "#Looking at a data example\n",
    "image, label=mnist_train[3]\n",
    "\n",
    "print(\"The default size of image: {}\".format(image.shape))\n",
    "image=image.reshape([28,28])\n",
    "\n",
    "print(\"The reshaped image size: {}\".format(image.shape))\n",
    "plt.imshow(image, cmap=\"gray\")\n",
    "\n",
    "print(\"The label of this image: {}\".format(label))"
   ]
  },
  {
   "cell_type": "code",
   "execution_count": 48,
   "metadata": {},
   "outputs": [],
   "source": [
    "train_loader=torch.utils.data.DataLoader(mnist_train, batch_size=100, shuffle=True)\n",
    "test_loader=torch.utils.data.DataLoader(mnist_test, batch_size=100, shuffle=False)"
   ]
  },
  {
   "cell_type": "code",
   "execution_count": 49,
   "metadata": {},
   "outputs": [
    {
     "name": "stdout",
     "output_type": "stream",
     "text": [
      "Shape of minibatch: torch.Size([100, 1, 28, 28])\n",
      "Shape of labels: torch.Size([100])\n"
     ]
    }
   ],
   "source": [
    "data_train_iter=iter(train_loader)\n",
    "images, labels=data_train_iter.next()\n",
    "\n",
    "print(\"Shape of minibatch: {}\".format(images.shape))\n",
    "print(\"Shape of labels: {}\".format(labels.shape))"
   ]
  },
  {
   "cell_type": "markdown",
   "metadata": {},
   "source": [
    "### Logistic Regression Model"
   ]
  },
  {
   "cell_type": "code",
   "execution_count": 50,
   "metadata": {},
   "outputs": [
    {
     "name": "stdout",
     "output_type": "stream",
     "text": [
      "The shape of image: torch.Size([100, 784])\n"
     ]
    }
   ],
   "source": [
    "x=images.view(-1,28*28)\n",
    "\n",
    "print(\"The shape of image: {}\".format(x.shape))"
   ]
  },
  {
   "cell_type": "code",
   "execution_count": 51,
   "metadata": {},
   "outputs": [],
   "source": [
    "#Randomly initializing weigthts (Xavier Initialization)\n",
    "W=torch.randn(784,10)/np.sqrt(784)\n",
    "W.requires_grad_()\n",
    "\n",
    "#Initializing bias b\n",
    "b=torch.zeros(10, requires_grad=True)"
   ]
  },
  {
   "cell_type": "code",
   "execution_count": 52,
   "metadata": {},
   "outputs": [],
   "source": [
    "#Finding y by linear transformation W and b\n",
    "y=torch.matmul(x,W)+b"
   ]
  },
  {
   "cell_type": "code",
   "execution_count": 53,
   "metadata": {},
   "outputs": [
    {
     "name": "stdout",
     "output_type": "stream",
     "text": [
      "py[0] from the equation: tensor([0.0957, 0.0608, 0.1111, 0.1005, 0.0856, 0.1549, 0.1257, 0.0982, 0.1129,\n",
      "        0.0546], grad_fn=<SelectBackward>)\n",
      "py[0] using torch.nn.functional.softmax : tensor([0.0957, 0.0608, 0.1111, 0.1005, 0.0856, 0.1549, 0.1257, 0.0982, 0.1129,\n",
      "        0.0546], grad_fn=<SelectBackward>)\n"
     ]
    }
   ],
   "source": [
    "#Option 1: Softmax to probabilities from equation\n",
    "py_eq=torch.exp(y)/torch.sum(torch.exp(y),dim=1, keepdim=True)\n",
    "\n",
    "print(\"py[0] from the equation: {}\".format(py_eq[0]))\n",
    "\n",
    "#Option2: Softmax to probabilities with torch.nn.functional\n",
    "import torch.nn.functional as F\n",
    "py=F.softmax(y, dim=1)\n",
    "\n",
    "print(\"py[0] using torch.nn.functional.softmax : {}\".format(py[0]))\n"
   ]
  },
  {
   "cell_type": "code",
   "execution_count": 54,
   "metadata": {},
   "outputs": [
    {
     "name": "stdout",
     "output_type": "stream",
     "text": [
      "The cross entropy from equations is: 2.3184986114501953\n",
      "The cross entropy using torch.nn.functional: 2.318498134613037\n"
     ]
    }
   ],
   "source": [
    "#OPtion 1: Cross entropy from equation\n",
    "cross_entropy_eq=torch.mean(-torch.log(py)[range(labels.shape[0]),labels])\n",
    "\n",
    "print(\"The cross entropy from equations is: {}\".format(cross_entropy_eq))\n",
    "\n",
    "#Option 2: Cross entropy using torch.nn.functional\n",
    "cross_entropy=F.cross_entropy(y,labels)\n",
    "print(\"The cross entropy using torch.nn.functional: {}\".format(cross_entropy))"
   ]
  },
  {
   "cell_type": "code",
   "execution_count": 55,
   "metadata": {},
   "outputs": [],
   "source": [
    "#Optimizing the parameters\n",
    "optimizer=torch.optim.SGD([W, b], lr=0.1)\n"
   ]
  },
  {
   "cell_type": "code",
   "execution_count": 56,
   "metadata": {},
   "outputs": [],
   "source": [
    "#Calculating gradient for W and b\n",
    "cross_entropy.backward()"
   ]
  },
  {
   "cell_type": "code",
   "execution_count": 57,
   "metadata": {},
   "outputs": [
    {
     "data": {
      "text/plain": [
       "tensor([-0.0002, -0.0303,  0.0404,  0.0420, -0.0169, -0.0362, -0.0061,  0.0225,\n",
       "         0.0031, -0.0184])"
      ]
     },
     "execution_count": 57,
     "metadata": {},
     "output_type": "execute_result"
    }
   ],
   "source": [
    "#Each of variable which required gradients now have accumulated gradient\n",
    "b.grad"
   ]
  },
  {
   "cell_type": "code",
   "execution_count": 58,
   "metadata": {},
   "outputs": [],
   "source": [
    "optimizer.step()"
   ]
  },
  {
   "cell_type": "code",
   "execution_count": 59,
   "metadata": {},
   "outputs": [
    {
     "data": {
      "text/plain": [
       "tensor([ 2.1729e-05,  3.0259e-03, -4.0433e-03, -4.2024e-03,  1.6949e-03,\n",
       "         3.6160e-03,  6.0568e-04, -2.2469e-03, -3.1067e-04,  1.8393e-03],\n",
       "       requires_grad=True)"
      ]
     },
     "execution_count": 59,
     "metadata": {},
     "output_type": "execute_result"
    }
   ],
   "source": [
    "b"
   ]
  },
  {
   "cell_type": "code",
   "execution_count": 60,
   "metadata": {},
   "outputs": [
    {
     "name": "stdout",
     "output_type": "stream",
     "text": [
      "b.grad before zero_grad(): tensor([-0.0002, -0.0303,  0.0404,  0.0420, -0.0169, -0.0362, -0.0061,  0.0225,\n",
      "         0.0031, -0.0184])\n",
      "b.grad after zero_grad(): tensor([0., 0., 0., 0., 0., 0., 0., 0., 0., 0.])\n"
     ]
    }
   ],
   "source": [
    "print(\"b.grad before zero_grad(): {}\".format(b.grad))\n",
    "optimizer.zero_grad()\n",
    "\n",
    "print(\"b.grad after zero_grad(): {}\".format(b.grad))"
   ]
  },
  {
   "cell_type": "markdown",
   "metadata": {},
   "source": [
    "## Training Model\n",
    "#### 1. Load minibatch\n",
    "#### 2. Zero the parameters W and b\n",
    "#### 3. Forward pass(predict label, calculate loss)\n",
    "#### 4. Backward pass(compute gradients, perform SGD)"
   ]
  },
  {
   "cell_type": "code",
   "execution_count": 61,
   "metadata": {},
   "outputs": [
    {
     "data": {
      "application/vnd.jupyter.widget-view+json": {
       "model_id": "bc1e2ae2da074533884a77c09389949c",
       "version_major": 2,
       "version_minor": 0
      },
      "text/plain": [
       "HBox(children=(FloatProgress(value=0.0, max=600.0), HTML(value='')))"
      ]
     },
     "metadata": {},
     "output_type": "display_data"
    },
    {
     "name": "stdout",
     "output_type": "stream",
     "text": [
      "\n"
     ]
    }
   ],
   "source": [
    "for images, labels in tqdm(train_loader):\n",
    "    #Zero the previous gradient\n",
    "    optimizer.zero_grad()\n",
    "    \n",
    "    #Forward Pass\n",
    "    x=images.view(-1,28*28)\n",
    "    y=torch.matmul(x, W)+b\n",
    "    cross_entropy=F.cross_entropy(y,labels)\n",
    "    \n",
    "    #Backward pass\n",
    "    cross_entropy.backward()\n",
    "    optimizer.step()\n"
   ]
  },
  {
   "cell_type": "markdown",
   "metadata": {},
   "source": [
    "### Testing the model"
   ]
  },
  {
   "cell_type": "code",
   "execution_count": 62,
   "metadata": {},
   "outputs": [
    {
     "data": {
      "application/vnd.jupyter.widget-view+json": {
       "model_id": "ce2a6b32bc0b4adda41238e709f8f422",
       "version_major": 2,
       "version_minor": 0
      },
      "text/plain": [
       "HBox(children=(FloatProgress(value=0.0), HTML(value='')))"
      ]
     },
     "metadata": {},
     "output_type": "display_data"
    },
    {
     "name": "stdout",
     "output_type": "stream",
     "text": [
      "\n",
      "Test accuracy: 0.9035000205039978\n"
     ]
    }
   ],
   "source": [
    "correct=0;\n",
    "total=len(mnist_test)\n",
    "\n",
    "with torch.no_grad():\n",
    "    #Iterating through test set minibatches\n",
    "    for images, labels in tqdm(test_loader):\n",
    "        #Forward Pass\n",
    "        x=images.view(-1,28*28)\n",
    "        y=torch.matmul(x,W)+b\n",
    "        \n",
    "        predictions=torch.argmax(y,dim=1)\n",
    "        correct +=torch.sum((predictions==labels).float())\n",
    "        \n",
    "print(\"Test accuracy: {}\".format(correct/total))"
   ]
  },
  {
   "cell_type": "code",
   "execution_count": 65,
   "metadata": {},
   "outputs": [
    {
     "data": {
      "image/png": "[encoded data removed]",
      "text/plain": [
       "<Figure size 1440x144 with 10 Axes>"
      ]
     },
     "metadata": {
      "needs_background": "light"
     },
     "output_type": "display_data"
    }
   ],
   "source": [
    "#Get weights\n",
    "fig, ax =plt.subplots(1,10, figsize=(20,2))\n",
    "\n",
    "for digit in range(10):\n",
    "    ax[digit].imshow(W[:,digit].detach().view(28,28), cmap=\"gray\")"
   ]
  },
  {
   "cell_type": "code",
   "execution_count": 66,
   "metadata": {},
   "outputs": [
    {
     "data": {
      "application/vnd.jupyter.widget-view+json": {
       "model_id": "12d4d011092a4a98b5e1d7f90e4a3bd6",
       "version_major": 2,
       "version_minor": 0
      },
      "text/plain": [
       "HBox(children=(FloatProgress(value=0.0, max=600.0), HTML(value='')))"
      ]
     },
     "metadata": {},
     "output_type": "display_data"
    },
    {
     "name": "stdout",
     "output_type": "stream",
     "text": [
      "\n"
     ]
    },
    {
     "data": {
      "application/vnd.jupyter.widget-view+json": {
       "model_id": "cff4b4f9d0d3432d8fa137ace5621c66",
       "version_major": 2,
       "version_minor": 0
      },
      "text/plain": [
       "HBox(children=(FloatProgress(value=0.0), HTML(value='')))"
      ]
     },
     "metadata": {},
     "output_type": "display_data"
    },
    {
     "name": "stdout",
     "output_type": "stream",
     "text": [
      "\n",
      "Test accuracy: 0.902999997138977\n"
     ]
    }
   ],
   "source": [
    "import numpy as np\n",
    "import torch\n",
    "import torch.nn.functional as F\n",
    "from torchvision import datasets, transforms\n",
    "from tqdm.notebook import tqdm\n",
    "\n",
    "# Load the data\n",
    "mnist_train = datasets.MNIST(root=\"./datasets\", train=True, transform=transforms.ToTensor(), download=True)\n",
    "mnist_test = datasets.MNIST(root=\"./datasets\", train=False, transform=transforms.ToTensor(), download=True)\n",
    "train_loader = torch.utils.data.DataLoader(mnist_train, batch_size=100, shuffle=True)\n",
    "test_loader = torch.utils.data.DataLoader(mnist_test, batch_size=100, shuffle=False)\n",
    "\n",
    "## Training\n",
    "# Initialize parameters\n",
    "W = torch.randn(784, 10)/np.sqrt(784)\n",
    "W.requires_grad_()\n",
    "b = torch.zeros(10, requires_grad=True)\n",
    "\n",
    "# Optimizer\n",
    "optimizer = torch.optim.SGD([W,b], lr=0.1)\n",
    "\n",
    "# Iterate through train set minibatchs \n",
    "for images, labels in tqdm(train_loader):\n",
    "    # Zero out the gradients\n",
    "    optimizer.zero_grad()\n",
    "    \n",
    "    # Forward pass\n",
    "    x = images.view(-1, 28*28)\n",
    "    y = torch.matmul(x, W) + b\n",
    "    cross_entropy = F.cross_entropy(y, labels)\n",
    "    # Backward pass\n",
    "    cross_entropy.backward()\n",
    "    optimizer.step()\n",
    "\n",
    "## Testing\n",
    "correct = 0\n",
    "total = len(mnist_test)\n",
    "\n",
    "with torch.no_grad():\n",
    "    # Iterate through test set minibatchs \n",
    "    for images, labels in tqdm(test_loader):\n",
    "        # Forward pass\n",
    "        x = images.view(-1, 28*28)\n",
    "        y = torch.matmul(x, W) + b\n",
    "        \n",
    "        predictions = torch.argmax(y, dim=1)\n",
    "        correct += torch.sum((predictions == labels).float())\n",
    "    \n",
    "print('Test accuracy: {}'.format(correct/total))"
   ]
  },
  {
   "cell_type": "code",
   "execution_count": null,
   "metadata": {},
   "outputs": [],
   "source": []
  }
 ],
 "metadata": {
  "kernelspec": {
   "display_name": "Python 3",
   "language": "python",
   "name": "python3"
  },
  "language_info": {
   "codemirror_mode": {
    "name": "ipython",
    "version": 3
   },
   "file_extension": ".py",
   "mimetype": "text/x-python",
   "name": "python",
   "nbconvert_exporter": "python",
   "pygments_lexer": "ipython3",
   "version": "3.8.3"
  }
 },
 "nbformat": 4,
 "nbformat_minor": 4
}
